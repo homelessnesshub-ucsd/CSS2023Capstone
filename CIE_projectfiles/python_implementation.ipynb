{
 "cells": [
  {
   "cell_type": "code",
   "execution_count": 1,
   "metadata": {
    "collapsed": true
   },
   "outputs": [],
   "source": [
    "import pandas as pd, numpy as np, matplotlib.pyplot as plt, seaborn as sns\n",
    "from datetime import datetime"
   ]
  },
  {
   "cell_type": "markdown",
   "source": [
    "# Data Cleaning (in Python)\n",
    "   - This notebook is the original implementation of data cleaning used in the .py script called by R,\n",
    "   - Any additional notes and code within are only meant for documentation."
   ],
   "metadata": {
    "collapsed": false,
    "pycharm": {
     "name": "#%% md\n"
    }
   }
  },
  {
   "cell_type": "code",
   "execution_count": 2,
   "outputs": [
    {
     "data": {
      "text/plain": "            AccountID           ContactID Account_Created_Date Record_Type   \n0  0012M000021P37VQAS  0032M00002Xg84VQAR  2018-11-18 00:00:00      Client  \\\n1  0012M000021P9NyQAK  0032M00002XgETWQA3  2018-11-18 00:00:00      Client   \n2  0012M000021Pa72QAC  0032M00002XggatQAB  2018-11-19 00:00:00      Client   \n3  0012M000021PalPQAS  0032M00002XghI2QAJ  2018-11-19 00:00:00      Client   \n4  0012M000021PaoYQAS  0032M00002XghLkQAJ  2018-11-19 00:00:00      Client   \n\n      Consent      Zip Neighborhood   HHSA_Region     County Housing_Needs   \n0    Declined  92071.0       SANTEE          East  San Diego            No  \\\n1  No Consent  92064.0        POWAY  North Inland  San Diego           Yes   \n2     Consent  92071.0       SANTEE          East  San Diego            No   \n3     Consent  91910.0  CHULA VISTA         South  San Diego            No   \n4    Declined  91901.0       ALPINE          East  San Diego            No   \n\n   ...                 Residency_Status                     Non-Cash_Benefits   \n0  ...                          Missing  CalFresh/SNAP (food stamps);Medi-Cal  \\\n1  ...                          Missing                                 Other   \n2  ...                          Missing                               Missing   \n3  ...                          Missing                               Missing   \n4  ...  U.S Citizen/Naturalized Citizen                              Medi-Cal   \n\n      Military__Veteran      Employment               Education   \n0               Missing        Disabled  Some College No Degree  \\\n1  Not Military/Veteran  Unable to work        Associate Degree   \n2  Not Military/Veteran       Full-Time      High School Degree   \n3  Not Military/Veteran       Full-Time       Bachelor's Degree   \n4  Not Military/Veteran       Full-Time  Some College No Degree   \n\n  Health_Insurance Health_Insurance_Type             Health_Plan Homeless   \n0              Yes              Medi-Cal                  Molina       No  \\\n1              Yes              Medi-Cal                   Other      Yes   \n2              Yes     Employer Provided                 Missing  Missing   \n3              Yes     Employer Provided                 Missing  Missing   \n4              Yes              Medi-Cal  Community Health Group       No   \n\n     Housing_Type  \n0  Stable Housing  \n1     Unsheltered  \n2         Missing  \n3         Missing  \n4  Stable Housing  \n\n[5 rows x 40 columns]",
      "text/html": "<div>\n<style scoped>\n    .dataframe tbody tr th:only-of-type {\n        vertical-align: middle;\n    }\n\n    .dataframe tbody tr th {\n        vertical-align: top;\n    }\n\n    .dataframe thead th {\n        text-align: right;\n    }\n</style>\n<table border=\"1\" class=\"dataframe\">\n  <thead>\n    <tr style=\"text-align: right;\">\n      <th></th>\n      <th>AccountID</th>\n      <th>ContactID</th>\n      <th>Account_Created_Date</th>\n      <th>Record_Type</th>\n      <th>Consent</th>\n      <th>Zip</th>\n      <th>Neighborhood</th>\n      <th>HHSA_Region</th>\n      <th>County</th>\n      <th>Housing_Needs</th>\n      <th>...</th>\n      <th>Residency_Status</th>\n      <th>Non-Cash_Benefits</th>\n      <th>Military__Veteran</th>\n      <th>Employment</th>\n      <th>Education</th>\n      <th>Health_Insurance</th>\n      <th>Health_Insurance_Type</th>\n      <th>Health_Plan</th>\n      <th>Homeless</th>\n      <th>Housing_Type</th>\n    </tr>\n  </thead>\n  <tbody>\n    <tr>\n      <th>0</th>\n      <td>0012M000021P37VQAS</td>\n      <td>0032M00002Xg84VQAR</td>\n      <td>2018-11-18 00:00:00</td>\n      <td>Client</td>\n      <td>Declined</td>\n      <td>92071.0</td>\n      <td>SANTEE</td>\n      <td>East</td>\n      <td>San Diego</td>\n      <td>No</td>\n      <td>...</td>\n      <td>Missing</td>\n      <td>CalFresh/SNAP (food stamps);Medi-Cal</td>\n      <td>Missing</td>\n      <td>Disabled</td>\n      <td>Some College No Degree</td>\n      <td>Yes</td>\n      <td>Medi-Cal</td>\n      <td>Molina</td>\n      <td>No</td>\n      <td>Stable Housing</td>\n    </tr>\n    <tr>\n      <th>1</th>\n      <td>0012M000021P9NyQAK</td>\n      <td>0032M00002XgETWQA3</td>\n      <td>2018-11-18 00:00:00</td>\n      <td>Client</td>\n      <td>No Consent</td>\n      <td>92064.0</td>\n      <td>POWAY</td>\n      <td>North Inland</td>\n      <td>San Diego</td>\n      <td>Yes</td>\n      <td>...</td>\n      <td>Missing</td>\n      <td>Other</td>\n      <td>Not Military/Veteran</td>\n      <td>Unable to work</td>\n      <td>Associate Degree</td>\n      <td>Yes</td>\n      <td>Medi-Cal</td>\n      <td>Other</td>\n      <td>Yes</td>\n      <td>Unsheltered</td>\n    </tr>\n    <tr>\n      <th>2</th>\n      <td>0012M000021Pa72QAC</td>\n      <td>0032M00002XggatQAB</td>\n      <td>2018-11-19 00:00:00</td>\n      <td>Client</td>\n      <td>Consent</td>\n      <td>92071.0</td>\n      <td>SANTEE</td>\n      <td>East</td>\n      <td>San Diego</td>\n      <td>No</td>\n      <td>...</td>\n      <td>Missing</td>\n      <td>Missing</td>\n      <td>Not Military/Veteran</td>\n      <td>Full-Time</td>\n      <td>High School Degree</td>\n      <td>Yes</td>\n      <td>Employer Provided</td>\n      <td>Missing</td>\n      <td>Missing</td>\n      <td>Missing</td>\n    </tr>\n    <tr>\n      <th>3</th>\n      <td>0012M000021PalPQAS</td>\n      <td>0032M00002XghI2QAJ</td>\n      <td>2018-11-19 00:00:00</td>\n      <td>Client</td>\n      <td>Consent</td>\n      <td>91910.0</td>\n      <td>CHULA VISTA</td>\n      <td>South</td>\n      <td>San Diego</td>\n      <td>No</td>\n      <td>...</td>\n      <td>Missing</td>\n      <td>Missing</td>\n      <td>Not Military/Veteran</td>\n      <td>Full-Time</td>\n      <td>Bachelor's Degree</td>\n      <td>Yes</td>\n      <td>Employer Provided</td>\n      <td>Missing</td>\n      <td>Missing</td>\n      <td>Missing</td>\n    </tr>\n    <tr>\n      <th>4</th>\n      <td>0012M000021PaoYQAS</td>\n      <td>0032M00002XghLkQAJ</td>\n      <td>2018-11-19 00:00:00</td>\n      <td>Client</td>\n      <td>Declined</td>\n      <td>91901.0</td>\n      <td>ALPINE</td>\n      <td>East</td>\n      <td>San Diego</td>\n      <td>No</td>\n      <td>...</td>\n      <td>U.S Citizen/Naturalized Citizen</td>\n      <td>Medi-Cal</td>\n      <td>Not Military/Veteran</td>\n      <td>Full-Time</td>\n      <td>Some College No Degree</td>\n      <td>Yes</td>\n      <td>Medi-Cal</td>\n      <td>Community Health Group</td>\n      <td>No</td>\n      <td>Stable Housing</td>\n    </tr>\n  </tbody>\n</table>\n<p>5 rows × 40 columns</p>\n</div>"
     },
     "execution_count": 2,
     "metadata": {},
     "output_type": "execute_result"
    }
   ],
   "source": [
    "# loading demographics for some basic wrangling\n",
    "demographics = pd.read_csv(\"client_demographics_20230310.csv\")\n",
    "\n",
    "#quickly renaming columns\n",
    "old_column_names = list(demographics.columns.values)\n",
    "\n",
    "#doing quick list comprehension-based string replacing (blanks to _)\n",
    "new_column_names = [name.replace(\" \", \"_\") for name in old_column_names]\n",
    "new_column_names = [name.replace(\"/\", \"__\") for name in new_column_names]\n",
    "\n",
    "#converting into quick dictionary for replacing old column names with new column names\n",
    "rename_dict = {i:j for i,j in zip(old_column_names,new_column_names)}\n",
    "demographics = demographics.rename(columns = rename_dict)\n",
    "\n",
    "#converting columns to numeric\n",
    "for column in demographics.columns:\n",
    "    try:\n",
    "        column = column.to_numeric()\n",
    "    except:\n",
    "        continue\n",
    "\n",
    "i = 0 #index counter\n",
    "for date in demographics.Account_Created_Date: #for each date within the report\n",
    "\n",
    "    #convert the date to datetime #11/18/18 #remember uppercase is full 4 digits, lowercase is short 2 digit\n",
    "    datetime_object = datetime.strptime(date, '%m/%d/%y')\n",
    "\n",
    "    #replacing based on index\n",
    "    demographics.at[i, 'Account_Created_Date'] = datetime_object\n",
    "    i+=1\n",
    "demographics.head()\n",
    "\n",
    "# wrangling done. NaNs are left in for replication purposes,\n",
    "# Now proceeding to cleaning/prepping data for modeling"
   ],
   "metadata": {
    "collapsed": false,
    "pycharm": {
     "name": "#%%\n"
    }
   }
  },
  {
   "cell_type": "markdown",
   "source": [
    "## Data Cleaning\n",
    "   - basic cleaning that is needed through python will be conducted below, any additional cleaning will be performed in R\n",
    "\n",
    "   - Convert missing in NA for R\n",
    "   - ...\n",
    "   - Export"
   ],
   "metadata": {
    "collapsed": false,
    "pycharm": {
     "name": "#%% md\n"
    }
   }
  },
  {
   "cell_type": "code",
   "execution_count": 3,
   "outputs": [],
   "source": [
    "demographics = demographics.replace({'Missing': 'NA'}, regex=True)\n",
    "demographics.fillna('NA', inplace=True)\n",
    "demographics.to_csv(\"client_demographics_20230310_python_cleaned.csv\", index=False)"
   ],
   "metadata": {
    "collapsed": false,
    "pycharm": {
     "name": "#%%\n"
    }
   }
  },
  {
   "cell_type": "code",
   "execution_count": 4,
   "outputs": [
    {
     "data": {
      "text/plain": "array(['NA', 'U.S Citizen/Naturalized Citizen',\n       'Lawful Permanent Resident (LPR)',\n       'Non-Citizen or Unauthorized/Undocumented Immigrant',\n       'Conditional Permanent Resident', 'Refugee',\n       'Special Immigrant Juvenile (SIJ) Status', 'Asylum Seeker',\n       'Non-Immigrant Temporary Visas', 'Family-Sponsored Visas',\n       'VAWA Self-Petitioner', 'Victim of Trafficking in persons'],\n      dtype=object)"
     },
     "execution_count": 4,
     "metadata": {},
     "output_type": "execute_result"
    }
   ],
   "source": [
    "demographics['Residency_Status'].unique()"
   ],
   "metadata": {
    "collapsed": false,
    "pycharm": {
     "name": "#%%\n"
    }
   }
  },
  {
   "cell_type": "code",
   "execution_count": 5,
   "outputs": [
    {
     "data": {
      "text/plain": "                 AccountID           ContactID Account_Created_Date   \n131049  00141000021uNdgAAE  0034100002XtKgxAAF           2018-11-17  \\\n131050  00141000021uplmAAA  0034100002XtnL6AAJ           2018-11-17   \n131051  00141000021uvdFAAQ  0034100002XttabAAB           2018-11-17   \n131052  00141000021uvEoAAI  0034100002XttBMAAZ           2018-11-17   \n131053  00141000021uyDPAAY  0034100002XtwDGAAZ           2018-11-18   \n\n       Record_Type        Consent      Zip     Neighborhood    HHSA_Region   \n131049      Client        Consent  92020.0         EL CAJON           East  \\\n131050      Client       Declined  92111.0  SD, LINDA VISTA  North Central   \n131051      Client  Authorization  91914.0      CHULA VISTA          South   \n131052      Client        Consent  92071.0           SANTEE           East   \n131053   Anonymous     No Consent  91950.0    NATIONAL CITY          South   \n\n           County Housing_Needs  ... Residency_Status   \n131049  San Diego           Yes  ...               NA  \\\n131050  San Diego            No  ...               NA   \n131051  San Diego            No  ...               NA   \n131052  San Diego           Yes  ...               NA   \n131053  San Diego            No  ...               NA   \n\n                Non-Cash_Benefits     Military__Veteran Employment   \n131049                       SNAP      Military/Veteran  Part-Time  \\\n131050  Rental Assistance Ongoing  Not Military/Veteran   Disabled   \n131051                         NA  Not Military/Veteran   Disabled   \n131052                         NA                    NA         NA   \n131053                         NA                    NA         NA   \n\n                     Education Health_Insurance Health_Insurance_Type   \n131049                      NA              Yes             VA Health  \\\n131050  Some College No Degree              Yes                 Other   \n131051        Associate Degree              Yes               Private   \n131052                      NA               No          No Insurance   \n131053                      NA               NA                    NA   \n\n                      Health_Plan Homeless     Housing_Type  \n131049                    No Plan       No  Unknown Housing  \n131050  Blue Shield of California       NA               NA  \n131051          Kaiser Permanente       NA               NA  \n131052                         NA       NA               NA  \n131053                         NA       NA               NA  \n\n[5 rows x 40 columns]",
      "text/html": "<div>\n<style scoped>\n    .dataframe tbody tr th:only-of-type {\n        vertical-align: middle;\n    }\n\n    .dataframe tbody tr th {\n        vertical-align: top;\n    }\n\n    .dataframe thead th {\n        text-align: right;\n    }\n</style>\n<table border=\"1\" class=\"dataframe\">\n  <thead>\n    <tr style=\"text-align: right;\">\n      <th></th>\n      <th>AccountID</th>\n      <th>ContactID</th>\n      <th>Account_Created_Date</th>\n      <th>Record_Type</th>\n      <th>Consent</th>\n      <th>Zip</th>\n      <th>Neighborhood</th>\n      <th>HHSA_Region</th>\n      <th>County</th>\n      <th>Housing_Needs</th>\n      <th>...</th>\n      <th>Residency_Status</th>\n      <th>Non-Cash_Benefits</th>\n      <th>Military__Veteran</th>\n      <th>Employment</th>\n      <th>Education</th>\n      <th>Health_Insurance</th>\n      <th>Health_Insurance_Type</th>\n      <th>Health_Plan</th>\n      <th>Homeless</th>\n      <th>Housing_Type</th>\n    </tr>\n  </thead>\n  <tbody>\n    <tr>\n      <th>131049</th>\n      <td>00141000021uNdgAAE</td>\n      <td>0034100002XtKgxAAF</td>\n      <td>2018-11-17</td>\n      <td>Client</td>\n      <td>Consent</td>\n      <td>92020.0</td>\n      <td>EL CAJON</td>\n      <td>East</td>\n      <td>San Diego</td>\n      <td>Yes</td>\n      <td>...</td>\n      <td>NA</td>\n      <td>SNAP</td>\n      <td>Military/Veteran</td>\n      <td>Part-Time</td>\n      <td>NA</td>\n      <td>Yes</td>\n      <td>VA Health</td>\n      <td>No Plan</td>\n      <td>No</td>\n      <td>Unknown Housing</td>\n    </tr>\n    <tr>\n      <th>131050</th>\n      <td>00141000021uplmAAA</td>\n      <td>0034100002XtnL6AAJ</td>\n      <td>2018-11-17</td>\n      <td>Client</td>\n      <td>Declined</td>\n      <td>92111.0</td>\n      <td>SD, LINDA VISTA</td>\n      <td>North Central</td>\n      <td>San Diego</td>\n      <td>No</td>\n      <td>...</td>\n      <td>NA</td>\n      <td>Rental Assistance Ongoing</td>\n      <td>Not Military/Veteran</td>\n      <td>Disabled</td>\n      <td>Some College No Degree</td>\n      <td>Yes</td>\n      <td>Other</td>\n      <td>Blue Shield of California</td>\n      <td>NA</td>\n      <td>NA</td>\n    </tr>\n    <tr>\n      <th>131051</th>\n      <td>00141000021uvdFAAQ</td>\n      <td>0034100002XttabAAB</td>\n      <td>2018-11-17</td>\n      <td>Client</td>\n      <td>Authorization</td>\n      <td>91914.0</td>\n      <td>CHULA VISTA</td>\n      <td>South</td>\n      <td>San Diego</td>\n      <td>No</td>\n      <td>...</td>\n      <td>NA</td>\n      <td>NA</td>\n      <td>Not Military/Veteran</td>\n      <td>Disabled</td>\n      <td>Associate Degree</td>\n      <td>Yes</td>\n      <td>Private</td>\n      <td>Kaiser Permanente</td>\n      <td>NA</td>\n      <td>NA</td>\n    </tr>\n    <tr>\n      <th>131052</th>\n      <td>00141000021uvEoAAI</td>\n      <td>0034100002XttBMAAZ</td>\n      <td>2018-11-17</td>\n      <td>Client</td>\n      <td>Consent</td>\n      <td>92071.0</td>\n      <td>SANTEE</td>\n      <td>East</td>\n      <td>San Diego</td>\n      <td>Yes</td>\n      <td>...</td>\n      <td>NA</td>\n      <td>NA</td>\n      <td>NA</td>\n      <td>NA</td>\n      <td>NA</td>\n      <td>No</td>\n      <td>No Insurance</td>\n      <td>NA</td>\n      <td>NA</td>\n      <td>NA</td>\n    </tr>\n    <tr>\n      <th>131053</th>\n      <td>00141000021uyDPAAY</td>\n      <td>0034100002XtwDGAAZ</td>\n      <td>2018-11-18</td>\n      <td>Anonymous</td>\n      <td>No Consent</td>\n      <td>91950.0</td>\n      <td>NATIONAL CITY</td>\n      <td>South</td>\n      <td>San Diego</td>\n      <td>No</td>\n      <td>...</td>\n      <td>NA</td>\n      <td>NA</td>\n      <td>NA</td>\n      <td>NA</td>\n      <td>NA</td>\n      <td>NA</td>\n      <td>NA</td>\n      <td>NA</td>\n      <td>NA</td>\n      <td>NA</td>\n    </tr>\n  </tbody>\n</table>\n<p>5 rows × 40 columns</p>\n</div>"
     },
     "execution_count": 5,
     "metadata": {},
     "output_type": "execute_result"
    }
   ],
   "source": [
    "demographics.tail()"
   ],
   "metadata": {
    "collapsed": false,
    "pycharm": {
     "name": "#%%\n"
    }
   }
  },
  {
   "cell_type": "markdown",
   "source": [
    "Possible Questions:\n",
    "- How can we see whether legal representation can determine evictions?\n",
    "- Are the workshops working? How well?\n",
    "\n",
    "Models Desired Pertaining to Research Questions!\n",
    "- (Legal) Combining Attendance of Workshops by Month to Dataframe with Monthly 311 Counts?\n",
    "- Possible Time-Series Logistic Regression With Grouped Demographics/Location? (Change Over Time)\n",
    "- Supervised Classification Of Housing_Need using High Dimensional Variables (Demographics)?\n",
    "-\n",
    "\n",
    "Random Thoughts\n",
    "- Could we control for population and income by using Monthly Tenants Reached?\n",
    "    - Possibly the income for the area for each workshop?\n",
    "    - Do we have more Monthly Count Data (more years)? Otherwise, we may need to justify spreading aggregate\n",
    "        - Or, scale based on GPS data from Google/Apple Maps? Or Other count-based data\n",
    "\n",
    "Data Wrangling Tasks Found\n",
    "1. Expand SDSC Court Cases (Unmasked)/Wrangle More Data\n",
    "2. Acquire Sheriff Evictions\n",
    "3. Workshop data needed (registrants, post-survey/overview)\n",
    "\n",
    "Data Cleaning Tasks Found\n",
    "1. Dummy/One-Hot All Categoricals\n",
    "2. NaN check, if categorical, drop the row. If it's numerical, take the average or median\n",
    "3. Normalize Tenant Counts (Log Transform)\n",
    "4. Determine IVs to model with\n",
    "\n",
    "---"
   ],
   "metadata": {
    "collapsed": false
   }
  },
  {
   "cell_type": "markdown",
   "source": [
    "Data reporting\n",
    "Be super precise about the data reflects\n",
    "\n",
    "-Court data\n",
    "    - eviction filings\n",
    "        - can get some additional information\n",
    "- Sheriff data\n",
    "    - landlord files efiction report\n",
    "        - court rules in favor\n",
    "            - Judge sets a lockout date\n",
    "                - Landlord has to pay a fee\n",
    "                -\n",
    "\n",
    "-Try finding\n",
    "\n",
    "-Look at Census Tracts for Eviction Data\n",
    "    -Useful for GIS\n",
    "\n",
    "\n",
    "-Workshop Registration\n",
    "    -Person Interfaced with a website/etc\n",
    "       -They received some amount of info about eviction prevention\n",
    "        -Not everyone is at risk of eviction\n",
    "      - Would need to control for time\n",
    "\n",
    "Do we see any difference between zip codes where people who are registered for eviction prevention and those who were not?\n"
   ],
   "metadata": {
    "collapsed": false
   }
  },
  {
   "cell_type": "code",
   "execution_count": null,
   "outputs": [],
   "source": [],
   "metadata": {
    "collapsed": false,
    "pycharm": {
     "name": "#%%\n"
    }
   }
  }
 ],
 "metadata": {
  "kernelspec": {
   "display_name": "Python 3",
   "language": "python",
   "name": "python3"
  },
  "language_info": {
   "codemirror_mode": {
    "name": "ipython",
    "version": 2
   },
   "file_extension": ".py",
   "mimetype": "text/x-python",
   "name": "python",
   "nbconvert_exporter": "python",
   "pygments_lexer": "ipython2",
   "version": "2.7.6"
  }
 },
 "nbformat": 4,
 "nbformat_minor": 0
}